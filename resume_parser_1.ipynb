{
  "metadata": {
    "kernelspec": {
      "language": "python",
      "display_name": "Python 3",
      "name": "python3"
    },
    "language_info": {
      "name": "python",
      "version": "3.7.12",
      "mimetype": "text/x-python",
      "codemirror_mode": {
        "name": "ipython",
        "version": 3
      },
      "pygments_lexer": "ipython3",
      "nbconvert_exporter": "python",
      "file_extension": ".py"
    },
    "colab": {
      "provenance": []
    }
  },
  "nbformat_minor": 0,
  "nbformat": 4,
  "cells": [
    {
      "cell_type": "markdown",
      "source": [
        "# RESUME PARSER"
      ],
      "metadata": {
        "id": "N7zhQgbujfl9"
      }
    },
    {
      "cell_type": "markdown",
      "source": [
        "### Installing dependencies"
      ],
      "metadata": {
        "id": "EW-Hv9ygjfmM"
      }
    },
    {
      "cell_type": "code",
      "source": [
        "#!pip install tika"
      ],
      "metadata": {
        "execution": {
          "iopub.status.busy": "2022-01-08T15:28:43.866386Z",
          "iopub.execute_input": "2022-01-08T15:28:43.867787Z",
          "iopub.status.idle": "2022-01-08T15:28:52.719225Z",
          "shell.execute_reply.started": "2022-01-08T15:28:43.867554Z",
          "shell.execute_reply": "2022-01-08T15:28:52.717825Z"
        },
        "trusted": true,
        "id": "yREIe10MjfmO"
      },
      "execution_count": 5,
      "outputs": []
    },
    {
      "cell_type": "markdown",
      "source": [
        "### Extracting text from pdf"
      ],
      "metadata": {
        "id": "juf9taUKjfmS"
      }
    },
    {
      "cell_type": "code",
      "source": [
        "from tika import parser\n",
        "file = r'/content/candidate_042.pdf'\n",
        "file_data = parser.from_file(file)\n",
        "text = file_data['content']\n",
        "print(text)"
      ],
      "metadata": {
        "execution": {
          "iopub.status.busy": "2022-01-08T15:28:52.722507Z",
          "iopub.execute_input": "2022-01-08T15:28:52.723556Z",
          "iopub.status.idle": "2022-01-08T15:28:52.817693Z",
          "shell.execute_reply.started": "2022-01-08T15:28:52.723487Z",
          "shell.execute_reply": "2022-01-08T15:28:52.816641Z"
        },
        "trusted": true,
        "colab": {
          "base_uri": "https://localhost:8080/"
        },
        "id": "aUp5mbhkjfmT",
        "outputId": "50e7392c-a137-4e2b-e71e-a512fdd89ed4"
      },
      "execution_count": 6,
      "outputs": [
        {
          "output_type": "stream",
          "name": "stdout",
          "text": [
            "\n",
            "\n",
            "\n",
            "\n",
            "\n",
            "\n",
            "\n",
            "\n",
            "\n",
            "\n",
            "\n",
            "\n",
            "\n",
            "\n",
            "\n",
            "\n",
            "\n",
            "\n",
            "\n",
            "\n",
            "\n",
            "\n",
            "\n",
            "\n",
            "\n",
            "\n",
            "\n",
            "\n",
            "\n",
            "\n",
            "\n",
            "\n",
            "\n",
            "\n",
            "\n",
            "\n",
            "\n",
            "candidate_042\n",
            "\n",
            "\n",
            "Ryan Nelson\n",
            "F R E S H E R  S O F T W A R E  D E V E L O P E R  \n",
            "\n",
            "Executive Profile\n",
            "\n",
            "I consider myself a team player and ethics\n",
            "maintainer. When it comes to coding I\n",
            "always try to be be well informed about\n",
            "the technology and its application. Would\n",
            "like to join any firm as a software\n",
            "developer in machine learning projects.\n",
            "\n",
            "Other Activities\n",
            "\n",
            "Machine learning - Stanford University\n",
            "SAP Fundamentals - Arjuvo Limited\n",
            "\n",
            "Projects\n",
            "\n",
            "Classification of Cassava Leaves\n",
            "\n",
            "Skills\n",
            "\n",
            "Machine Learning, Software Engineering,\n",
            "Python, Java, SAP,C programming\n",
            "\n",
            "Work Experience\n",
            "\n",
            "Accenture  \n",
            "Software Developer, Apr 2019 - Dec 2020 \n",
            "\n",
            "Worked on multiple projects that dealt with system frame\n",
            "development and solution supply.\n",
            "\n",
            "Education\n",
            "\n",
            "B.Tech Computer Science From JNTU, 2019\n",
            "\n",
            "\n",
            "\n"
          ]
        }
      ]
    },
    {
      "cell_type": "markdown",
      "source": [
        "#### Creating a dictionary to store parsed content"
      ],
      "metadata": {
        "id": "H4MCU6NQjfmU"
      }
    },
    {
      "cell_type": "code",
      "source": [
        "parsed_content = {}"
      ],
      "metadata": {
        "execution": {
          "iopub.status.busy": "2022-01-08T15:28:52.819043Z",
          "iopub.execute_input": "2022-01-08T15:28:52.820525Z",
          "iopub.status.idle": "2022-01-08T15:28:52.826295Z",
          "shell.execute_reply.started": "2022-01-08T15:28:52.820451Z",
          "shell.execute_reply": "2022-01-08T15:28:52.825109Z"
        },
        "trusted": true,
        "id": "Ijj9iDqSjfmV"
      },
      "execution_count": 7,
      "outputs": []
    },
    {
      "cell_type": "markdown",
      "source": [
        "### Extracting E-Mail from the text"
      ],
      "metadata": {
        "id": "johIGxRYjfmW"
      }
    },
    {
      "cell_type": "code",
      "source": [
        "#E-MAIL\n",
        "import re\n",
        "def get_email_addresses(string):\n",
        "    r = re.compile(r'[\\w\\.-]+@[\\w\\.-]+')\n",
        "    return r.findall(string)\n",
        "\n",
        "email = get_email_addresses(text)\n",
        "print(email)\n",
        "parsed_content['E-mail'] = email"
      ],
      "metadata": {
        "execution": {
          "iopub.status.busy": "2022-01-08T15:28:52.830053Z",
          "iopub.execute_input": "2022-01-08T15:28:52.831164Z",
          "iopub.status.idle": "2022-01-08T15:28:52.844101Z",
          "shell.execute_reply.started": "2022-01-08T15:28:52.831105Z",
          "shell.execute_reply": "2022-01-08T15:28:52.843057Z"
        },
        "trusted": true,
        "colab": {
          "base_uri": "https://localhost:8080/"
        },
        "id": "rlZfrwM_jfmX",
        "outputId": "569808c4-e5b4-4fba-b2b4-fcb3addfd78c"
      },
      "execution_count": 8,
      "outputs": [
        {
          "output_type": "stream",
          "name": "stdout",
          "text": [
            "[]\n"
          ]
        }
      ]
    },
    {
      "cell_type": "markdown",
      "source": [
        "### Extracting Phone Number"
      ],
      "metadata": {
        "id": "wcZWcNrVjfmY"
      }
    },
    {
      "cell_type": "code",
      "source": [
        "#PHONE NUMBER\n",
        "import re\n",
        "def get_phone_numbers(string):\n",
        "    r = re.compile(r'(\\d{3}[-\\.\\s]??\\d{3}[-\\.\\s]??\\d{4}|\\(\\d{3}\\)\\s*\\d{3}[-\\.\\s]??\\d{4}|\\d{3}[-\\.\\s]??\\d{4})')\n",
        "    phone_numbers = r.findall(string)\n",
        "    return [re.sub(r'\\D', '', num) for num in phone_numbers]\n",
        "\n",
        "phone_number= get_phone_numbers(text)\n",
        "if len(phone_number) <= 10:\n",
        "    print(phone_number)\n",
        "    parsed_content['Phone number'] = phone_number"
      ],
      "metadata": {
        "execution": {
          "iopub.status.busy": "2022-01-08T15:28:52.847300Z",
          "iopub.execute_input": "2022-01-08T15:28:52.848212Z",
          "iopub.status.idle": "2022-01-08T15:28:52.861423Z",
          "shell.execute_reply.started": "2022-01-08T15:28:52.848156Z",
          "shell.execute_reply": "2022-01-08T15:28:52.860431Z"
        },
        "trusted": true,
        "colab": {
          "base_uri": "https://localhost:8080/"
        },
        "id": "pOd15yPrjfmZ",
        "outputId": "ad07f529-6cc5-4dde-9928-730ddca74beb"
      },
      "execution_count": 9,
      "outputs": [
        {
          "output_type": "stream",
          "name": "stdout",
          "text": [
            "[]\n"
          ]
        }
      ]
    },
    {
      "cell_type": "markdown",
      "source": [
        "### Extracting Name"
      ],
      "metadata": {
        "id": "ejNzvAy7jfma"
      }
    },
    {
      "cell_type": "code",
      "source": [
        "import spacy\n",
        "nlp = spacy.load('en_core_web_sm')\n",
        "from spacy.matcher import Matcher\n",
        "matcher = Matcher(nlp.vocab)\n",
        "\n",
        "def extract_name(text):\n",
        "   nlp_text = nlp(text)\n",
        "\n",
        "   # First name and Last name are always Proper Nouns\n",
        "   pattern = [{'POS': 'PROPN'}, {'POS': 'PROPN'}]\n",
        "\n",
        "   matcher.add('NAME', [pattern], on_match = None)\n",
        "\n",
        "   matches = matcher(nlp_text)\n",
        "\n",
        "   for match_id, start, end in matches:\n",
        "       span = nlp_text[start:end]\n",
        "       return span.text\n",
        "\n",
        "name = extract_name(text)\n",
        "print(name)\n",
        "parsed_content['Name'] =  name"
      ],
      "metadata": {
        "execution": {
          "iopub.status.busy": "2022-01-08T15:28:52.864292Z",
          "iopub.execute_input": "2022-01-08T15:28:52.865088Z",
          "iopub.status.idle": "2022-01-08T15:28:58.692795Z",
          "shell.execute_reply.started": "2022-01-08T15:28:52.864973Z",
          "shell.execute_reply": "2022-01-08T15:28:58.691793Z"
        },
        "trusted": true,
        "colab": {
          "base_uri": "https://localhost:8080/"
        },
        "id": "dQnPZl1ojfmb",
        "outputId": "7c863252-73d8-44bd-b41a-2c73b8ea7035"
      },
      "execution_count": 10,
      "outputs": [
        {
          "output_type": "stream",
          "name": "stdout",
          "text": [
            "Ryan Nelson\n"
          ]
        }
      ]
    },
    {
      "cell_type": "markdown",
      "source": [
        "### List of Keywords to identify 'Headings' in the Resume text"
      ],
      "metadata": {
        "id": "pTT6Tl_ejfme"
      }
    },
    {
      "cell_type": "code",
      "source": [
        "Keywords = [\"education\",\n",
        "            \"summary\",\n",
        "            \"accomplishments\",\n",
        "            \"executive profile\",\n",
        "            \"professional profile\",\n",
        "            \"personal profile\",\n",
        "            \"work background\",\n",
        "            \"academic profile\",\n",
        "            \"other activities\",\n",
        "            \"qualifications\",\n",
        "            \"experience\",\n",
        "            \"interests\",\n",
        "            \"skills\",\n",
        "            \"achievements\",\n",
        "            \"publications\",\n",
        "            \"publication\",\n",
        "            \"certifications\",\n",
        "            \"workshops\",\n",
        "            \"projects\",\n",
        "            \"internships\",\n",
        "            \"trainings\",\n",
        "            \"hobbies\",\n",
        "            \"overview\",\n",
        "            \"objective\",\n",
        "            \"position of responsibility\",\n",
        "            \"jobs\"\n",
        "           ]"
      ],
      "metadata": {
        "execution": {
          "iopub.status.busy": "2022-01-08T15:28:58.694557Z",
          "iopub.execute_input": "2022-01-08T15:28:58.695642Z",
          "iopub.status.idle": "2022-01-08T15:28:58.700786Z",
          "shell.execute_reply.started": "2022-01-08T15:28:58.695572Z",
          "shell.execute_reply": "2022-01-08T15:28:58.700202Z"
        },
        "trusted": true,
        "id": "5qhk6Tmyjfme"
      },
      "execution_count": 11,
      "outputs": []
    },
    {
      "cell_type": "markdown",
      "source": [
        "### Cleaning the resume text"
      ],
      "metadata": {
        "id": "MLOgJxPZjfmf"
      }
    },
    {
      "cell_type": "code",
      "source": [
        "text = text.replace(\"\\n\",\" \")\n",
        "text = text.replace(\"[^a-zA-Z0-9]\", \" \");\n",
        "re.sub('\\W+','', text)\n",
        "text = text.lower()\n",
        "print(text)"
      ],
      "metadata": {
        "execution": {
          "iopub.status.busy": "2022-01-08T15:28:58.702058Z",
          "iopub.execute_input": "2022-01-08T15:28:58.703027Z",
          "iopub.status.idle": "2022-01-08T15:28:58.725847Z",
          "shell.execute_reply.started": "2022-01-08T15:28:58.702991Z",
          "shell.execute_reply": "2022-01-08T15:28:58.724919Z"
        },
        "trusted": true,
        "colab": {
          "base_uri": "https://localhost:8080/"
        },
        "id": "GEygWW4qjfmf",
        "outputId": "a48898dd-d079-4e16-e661-1894f7214657"
      },
      "execution_count": 12,
      "outputs": [
        {
          "output_type": "stream",
          "name": "stdout",
          "text": [
            "                                     candidate_042   ryan nelson f r e s h e r  s o f t w a r e  d e v e l o p e r    executive profile  i consider myself a team player and ethics maintainer. when it comes to coding i always try to be be well informed about the technology and its application. would like to join any firm as a software developer in machine learning projects.  other activities  machine learning - stanford university sap fundamentals - arjuvo limited  projects  classification of cassava leaves  skills  machine learning, software engineering, python, java, sap,c programming  work experience  accenture   software developer, apr 2019 - dec 2020   worked on multiple projects that dealt with system frame development and solution supply.  education  b.tech computer science from jntu, 2019   \n"
          ]
        }
      ]
    },
    {
      "cell_type": "markdown",
      "source": [
        "### Finding the headings and corresponding indices"
      ],
      "metadata": {
        "id": "2R5nDESOjfmg"
      }
    },
    {
      "cell_type": "code",
      "source": [
        "content = {}\n",
        "indices = []\n",
        "keys = []\n",
        "for key in Keywords:\n",
        "    try:\n",
        "        content[key] = text[text.index(key) + len(key):]\n",
        "        indices.append(text.index(key))\n",
        "        keys.append(key)\n",
        "    except:\n",
        "        pass\n",
        ""
      ],
      "metadata": {
        "execution": {
          "iopub.status.busy": "2022-01-08T15:28:58.727395Z",
          "iopub.execute_input": "2022-01-08T15:28:58.728319Z",
          "iopub.status.idle": "2022-01-08T15:28:58.739898Z",
          "shell.execute_reply.started": "2022-01-08T15:28:58.728266Z",
          "shell.execute_reply": "2022-01-08T15:28:58.738820Z"
        },
        "trusted": true,
        "id": "fC8X8kTrjfmg"
      },
      "execution_count": 13,
      "outputs": []
    },
    {
      "cell_type": "code",
      "source": [
        "#Sorting the indices\n",
        "zipped_lists = zip(indices, keys)\n",
        "sorted_pairs = sorted(zipped_lists)\n",
        "sorted_pairs\n",
        "\n",
        "tuples = zip(*sorted_pairs)\n",
        "indices, keys = [ list(tuple) for tuple in  tuples]\n",
        "keys"
      ],
      "metadata": {
        "execution": {
          "iopub.status.busy": "2022-01-08T15:28:58.742700Z",
          "iopub.execute_input": "2022-01-08T15:28:58.742989Z",
          "iopub.status.idle": "2022-01-08T15:28:58.756719Z",
          "shell.execute_reply.started": "2022-01-08T15:28:58.742954Z",
          "shell.execute_reply": "2022-01-08T15:28:58.755546Z"
        },
        "trusted": true,
        "colab": {
          "base_uri": "https://localhost:8080/"
        },
        "id": "WjrLiltgjfmh",
        "outputId": "94d17693-ca41-4541-e763-11b9a2e14196"
      },
      "execution_count": 14,
      "outputs": [
        {
          "output_type": "execute_result",
          "data": {
            "text/plain": [
              "['executive profile',\n",
              " 'projects',\n",
              " 'other activities',\n",
              " 'skills',\n",
              " 'experience',\n",
              " 'education']"
            ]
          },
          "metadata": {},
          "execution_count": 14
        }
      ]
    },
    {
      "cell_type": "code",
      "source": [
        "#Keeping the required content and removing the redundant part\n",
        "content = []\n",
        "for idx in range(len(indices)):\n",
        "    if idx != len(indices)-1:\n",
        "        content.append(text[indices[idx]: indices[idx+1]])\n",
        "    else:\n",
        "        content.append(text[indices[idx]: ])"
      ],
      "metadata": {
        "execution": {
          "iopub.status.busy": "2022-01-08T15:28:58.758575Z",
          "iopub.execute_input": "2022-01-08T15:28:58.758818Z",
          "iopub.status.idle": "2022-01-08T15:28:58.768702Z",
          "shell.execute_reply.started": "2022-01-08T15:28:58.758788Z",
          "shell.execute_reply": "2022-01-08T15:28:58.767839Z"
        },
        "trusted": true,
        "id": "WybEmXi0jfmh"
      },
      "execution_count": 15,
      "outputs": []
    },
    {
      "cell_type": "markdown",
      "source": [
        "### Storing the parsed content in the dictionary"
      ],
      "metadata": {
        "id": "KE6a_3N_jfmi"
      }
    },
    {
      "cell_type": "code",
      "source": [
        "for i in range(len(indices)):\n",
        "    parsed_content[keys[i]] = content[i]"
      ],
      "metadata": {
        "execution": {
          "iopub.status.busy": "2022-01-08T15:28:58.769826Z",
          "iopub.execute_input": "2022-01-08T15:28:58.770671Z",
          "iopub.status.idle": "2022-01-08T15:28:58.781014Z",
          "shell.execute_reply.started": "2022-01-08T15:28:58.770635Z",
          "shell.execute_reply": "2022-01-08T15:28:58.780318Z"
        },
        "trusted": true,
        "id": "2DgOVFujjfmi"
      },
      "execution_count": 16,
      "outputs": []
    },
    {
      "cell_type": "code",
      "source": [
        "#Displaying the parsed content\n",
        "parsed_content"
      ],
      "metadata": {
        "execution": {
          "iopub.status.busy": "2022-01-08T15:28:58.782237Z",
          "iopub.execute_input": "2022-01-08T15:28:58.782909Z",
          "iopub.status.idle": "2022-01-08T15:28:58.796319Z",
          "shell.execute_reply.started": "2022-01-08T15:28:58.782877Z",
          "shell.execute_reply": "2022-01-08T15:28:58.795038Z"
        },
        "trusted": true,
        "colab": {
          "base_uri": "https://localhost:8080/"
        },
        "id": "Kv3fWS5-jfmj",
        "outputId": "9458ef61-2c89-403d-805a-25f18b4f3213"
      },
      "execution_count": 17,
      "outputs": [
        {
          "output_type": "execute_result",
          "data": {
            "text/plain": [
              "{'E-mail': [],\n",
              " 'Phone number': [],\n",
              " 'Name': 'Ryan Nelson',\n",
              " 'executive profile': 'executive profile  i consider myself a team player and ethics maintainer. when it comes to coding i always try to be be well informed about the technology and its application. would like to join any firm as a software developer in machine learning ',\n",
              " 'projects': 'projects.  ',\n",
              " 'other activities': 'other activities  machine learning - stanford university sap fundamentals - arjuvo limited  projects  classification of cassava leaves  ',\n",
              " 'skills': 'skills  machine learning, software engineering, python, java, sap,c programming  work ',\n",
              " 'experience': 'experience  accenture   software developer, apr 2019 - dec 2020   worked on multiple projects that dealt with system frame development and solution supply.  ',\n",
              " 'education': 'education  b.tech computer science from jntu, 2019   '}"
            ]
          },
          "metadata": {},
          "execution_count": 17
        }
      ]
    },
    {
      "cell_type": "markdown",
      "source": [
        "### Dumping the dictionary into json format"
      ],
      "metadata": {
        "id": "5bsaDU4Jjfmj"
      }
    },
    {
      "cell_type": "code",
      "source": [
        "import json\n",
        "with open(\"Parsed_Resume.json\", \"w\") as outfile:\n",
        "    json.dump(parsed_content, outfile)"
      ],
      "metadata": {
        "execution": {
          "iopub.status.busy": "2022-01-08T15:28:58.797926Z",
          "iopub.execute_input": "2022-01-08T15:28:58.798404Z",
          "iopub.status.idle": "2022-01-08T15:28:58.807320Z",
          "shell.execute_reply.started": "2022-01-08T15:28:58.798336Z",
          "shell.execute_reply": "2022-01-08T15:28:58.806283Z"
        },
        "trusted": true,
        "id": "BAQ-pfR5jfmj"
      },
      "execution_count": 18,
      "outputs": []
    },
    {
      "cell_type": "markdown",
      "source": [
        "### Displaying the contents of json file"
      ],
      "metadata": {
        "id": "iCA5FwFejfmj"
      }
    },
    {
      "cell_type": "code",
      "source": [
        "a_file = open(\"Parsed_Resume.json\", \"r\")\n",
        "a_json = json.load(a_file)\n",
        "pretty_json = json.dumps(a_json, indent=4)\n",
        "a_file.close()\n",
        "print(pretty_json)"
      ],
      "metadata": {
        "execution": {
          "iopub.status.busy": "2022-01-08T15:28:58.808469Z",
          "iopub.execute_input": "2022-01-08T15:28:58.808922Z",
          "iopub.status.idle": "2022-01-08T15:28:58.820937Z",
          "shell.execute_reply.started": "2022-01-08T15:28:58.808885Z",
          "shell.execute_reply": "2022-01-08T15:28:58.819814Z"
        },
        "trusted": true,
        "colab": {
          "base_uri": "https://localhost:8080/"
        },
        "id": "skZ-YhDQjfmk",
        "outputId": "4ae34b2c-63db-4829-b5bb-3118355fc313"
      },
      "execution_count": 19,
      "outputs": [
        {
          "output_type": "stream",
          "name": "stdout",
          "text": [
            "{\n",
            "    \"E-mail\": [],\n",
            "    \"Phone number\": [],\n",
            "    \"Name\": \"Ryan Nelson\",\n",
            "    \"executive profile\": \"executive profile  i consider myself a team player and ethics maintainer. when it comes to coding i always try to be be well informed about the technology and its application. would like to join any firm as a software developer in machine learning \",\n",
            "    \"projects\": \"projects.  \",\n",
            "    \"other activities\": \"other activities  machine learning - stanford university sap fundamentals - arjuvo limited  projects  classification of cassava leaves  \",\n",
            "    \"skills\": \"skills  machine learning, software engineering, python, java, sap,c programming  work \",\n",
            "    \"experience\": \"experience  accenture   software developer, apr 2019 - dec 2020   worked on multiple projects that dealt with system frame development and solution supply.  \",\n",
            "    \"education\": \"education  b.tech computer science from jntu, 2019   \"\n",
            "}\n"
          ]
        }
      ]
    }
  ]
}